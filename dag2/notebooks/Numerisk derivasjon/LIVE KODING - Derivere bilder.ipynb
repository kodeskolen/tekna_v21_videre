{
 "cells": [
  {
   "cell_type": "markdown",
   "metadata": {},
   "source": [
    "# Derivasjon av bilder\n",
    "\n",
    "Når du har lært å derivere numerisk ved hjelp av programmering er det bare fantasien som setter grenser for hva som kan deriveres. I denne notebooken skal vi prøve å derivere bilder og undersøke hva det betyr. Det første vi trenger er å importere `pylab`. For denne notebooken trenger vi også en til funksjon, nemlig `imread` fra `imageio` pakken."
   ]
  },
  {
   "cell_type": "code",
   "execution_count": 3,
   "metadata": {},
   "outputs": [],
   "source": [
    "from pylab import *\n",
    "from imageio import imread"
   ]
  },
  {
   "cell_type": "markdown",
   "metadata": {},
   "source": [
    "For å laste inn et bilde kaller vi på imread og sender inn filnavnet. I vårt tilfelle ønsker vi også at bilde skal bli lastet inn som et gråtonebilde så vi sender inn nøkkelordargumentet `as_gray=True`. "
   ]
  },
  {
   "cell_type": "code",
   "execution_count": 4,
   "metadata": {},
   "outputs": [],
   "source": [
    "img = imread('bilder/IMG_0096.jpg', as_gray=True)\n",
    "#img = imread('bilder/arkitektur.png', as_gray=True)\n",
    "#img = imread('bilder/zebra1.jpeg', as_gray=True)\n",
    "#img = imread('bilder/zebra2.jpeg', as_gray=True)\n",
    "#img = imread('bilder/dog.png', as_gray=True)"
   ]
  },
  {
   "cell_type": "markdown",
   "metadata": {},
   "source": [
    "Når vi har lest in bildet kan vi printe det ut for å se på verdiene"
   ]
  },
  {
   "cell_type": "code",
   "execution_count": null,
   "metadata": {},
   "outputs": [],
   "source": []
  },
  {
   "cell_type": "markdown",
   "metadata": {},
   "source": [
    "For å vise frem bildet kan vi kalle på funksjonen `imshow` og sende inn bildet som input"
   ]
  },
  {
   "cell_type": "code",
   "execution_count": null,
   "metadata": {},
   "outputs": [],
   "source": []
  },
  {
   "cell_type": "markdown",
   "metadata": {},
   "source": [
    "## Derivere bilder"
   ]
  },
  {
   "cell_type": "code",
   "execution_count": 6,
   "metadata": {},
   "outputs": [],
   "source": [
    "def deriver(avstandsmålinger, dt):\n",
    "    antall_målinger = len(avstandsmålinger)\n",
    "    fart = zeros(antall_målinger-1)\n",
    "    \n",
    "    for t in range(antall_målinger-1):\n",
    "        fart[t] = (avstandsmålinger[t+1] - avstandsmålinger[t])/dt\n",
    "        \n",
    "    return fart"
   ]
  },
  {
   "cell_type": "markdown",
   "metadata": {},
   "source": [
    "For å derivere bildet kan vi brøke en løkke for å løkke oss igjennom hver kolonne i bildet og bruke derivasjonsfunkjsonen\\:"
   ]
  },
  {
   "cell_type": "code",
   "execution_count": 7,
   "metadata": {},
   "outputs": [],
   "source": []
  },
  {
   "cell_type": "markdown",
   "metadata": {},
   "source": [
    "La oss nå se på resultatet. Dette kan vi gjøre ved å igjen bruke `imshow`"
   ]
  },
  {
   "cell_type": "code",
   "execution_count": null,
   "metadata": {},
   "outputs": [],
   "source": []
  },
  {
   "cell_type": "markdown",
   "metadata": {},
   "source": [
    "## Hva betyr \"farten\" til et bilde?"
   ]
  },
  {
   "cell_type": "code",
   "execution_count": null,
   "metadata": {},
   "outputs": [],
   "source": []
  },
  {
   "cell_type": "markdown",
   "metadata": {},
   "source": [
    "## Oppgaver"
   ]
  },
  {
   "cell_type": "markdown",
   "metadata": {},
   "source": [
    "### Oppgave 1a) \n",
    "Modifiser notebooken til å derivere `\"arkitektur.png\"` fra `\"bilder\"` mappen. Plot resultatet. Hvordan ser den deriverte ut? Hvilke elementer i bildet er det som blir fremhevet av derivasjonen?"
   ]
  },
  {
   "cell_type": "markdown",
   "metadata": {},
   "source": [
    "### Oppgave 2 a)\n",
    "\n",
    "I forrige oppgave deriverte vi kolonnene i arkitekturbildet, og da fant vi vertikale kanter. Hva tror du skjer dersom vi heller deriverer radene i bildet? Hvilke deler av bildet tror du da blir fremhevet av derivasjonen?\n",
    "\n",
    "### Oppgave 2b)\n",
    "Under har vi kode som vi kan bruke for å derivere radene i et bilde. Kjør koden, fikk du det resultatet du forventet?"
   ]
  },
  {
   "cell_type": "code",
   "execution_count": null,
   "metadata": {},
   "outputs": [],
   "source": [
    "høyde, bredde = img.shape \n",
    "rad_derivert_bilde = zeros([høyde, bredde-1])\n",
    "\n",
    "# løkke igjennom kolonnene i bildet, deriver dem og lagre resultatet i array\n",
    "for rad in range(høyde):\n",
    "    rad_derivert_bilde[rad, :] = deriver(img[rad, :], 1)"
   ]
  },
  {
   "cell_type": "markdown",
   "metadata": {},
   "source": [
    "Så viser vi frem absoluttverdien til det rad-deriverte bildet"
   ]
  },
  {
   "cell_type": "code",
   "execution_count": null,
   "metadata": {},
   "outputs": [],
   "source": [
    "imshow(abs(rad_derivert_bilde), 'gray')\n",
    "show()"
   ]
  },
  {
   "cell_type": "markdown",
   "metadata": {},
   "source": [
    "### Oppgave 3 a)\n",
    "Nå har vi to sett med kant-bilder, et kant-bilde som viser de vertikale kantene i det originalebildet og et som viser de horisontale kantene. For hver pixel i bildet har vi med andre ord to observasjoner, og dette kan vi tolke som en vektor. Vi har med andre ord en kant-vektor for hver pixel i originalbildet vårt.\n",
    "\n",
    "Hva tror du skjer dersom vi, for hver pixel, regner ut størrelsen på vektoren med Pytagoras' setning?\n",
    "\n",
    "### Oppgave 3b)\n",
    "Under har vi kode som regner ut størrelsen på hver pixel-vektor og viser frem bildet, stemmer det med det du trodde?"
   ]
  },
  {
   "cell_type": "code",
   "execution_count": null,
   "metadata": {},
   "outputs": [],
   "source": [
    "kantbilde = sqrt(derivert_bilde[:, 1:]**2  + rad_derivert_bilde[1:, :]**2)\n",
    "\n",
    "imshow(kantbilde, 'gray')\n",
    "show()"
   ]
  },
  {
   "cell_type": "code",
   "execution_count": null,
   "metadata": {},
   "outputs": [],
   "source": []
  }
 ],
 "metadata": {
  "kernelspec": {
   "display_name": "Python 3",
   "language": "python",
   "name": "python3"
  },
  "language_info": {
   "codemirror_mode": {
    "name": "ipython",
    "version": 3
   },
   "file_extension": ".py",
   "mimetype": "text/x-python",
   "name": "python",
   "nbconvert_exporter": "python",
   "pygments_lexer": "ipython3",
   "version": "3.7.6"
  }
 },
 "nbformat": 4,
 "nbformat_minor": 2
}
