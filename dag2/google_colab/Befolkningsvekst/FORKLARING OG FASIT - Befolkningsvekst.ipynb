{
 "cells": [
  {
   "cell_type": "code",
   "execution_count": 1,
   "metadata": {},
   "outputs": [],
   "source": [
    "from pylab import arange"
   ]
  },
  {
   "cell_type": "markdown",
   "metadata": {},
   "source": [
    "# Del 0: Vi kan indeksere arrayer for å hente ut eller oppdatere elementer\n",
    "\n",
    "I dette opplegget skal vi simulere biologiske system ved hjelp av rekursive rekker. Tidligere har vi brukt rekursive rekker for å simulere renter på en bankkonto, men da kunne vi kun se et og et år om gangen. Men hva om vi ønsker å plotte pengeutviklingen som funksjon av tid. Vel da må vi kunne lagre pengene vi har på bankkontoen vår, og for å gjøre det bruker vi array-indeksering.\n",
    "\n",
    "Det har seg nemlig slik at om vi har en array, `x`, så kan vi hente ut element fra denne arrayen med klammeparanteser, det første elementet i `x`-arrayen vår kan vi få tak i ved å skrive `x[0]`, det andre kan vi få ved å skrive `x[1]`, osv. Vi teller altså fra en her og. Under har vi en figur som viser hvordan dette virker for en array med åtte element i seg.\n",
    "\n",
    "<img src=\"https://raw.githubusercontent.com/kodeskolen/tekna_v21_videre/main/dag2/notebooks/Befolkningsvekst/bilder/array_indexing.png\" width=\"600px\">\n",
    "\n",
    "La oss nå se på et lite eksempel:"
   ]
  },
  {
   "cell_type": "code",
   "execution_count": 2,
   "metadata": {},
   "outputs": [
    {
     "name": "stdout",
     "output_type": "stream",
     "text": [
      "[0 1 2 3 4]\n",
      "0\n"
     ]
    }
   ],
   "source": [
    "x = arange(5)\n",
    "print(x)\n",
    "print(x[0])"
   ]
  },
  {
   "cell_type": "markdown",
   "metadata": {},
   "source": [
    "Vi kan og endre verdien til et element i arrayet, hvis vi vil endre verdien til det første elementet i arrayen vår til `9`, kan vi skrive `x[0] = 9`. La oss se på det."
   ]
  },
  {
   "cell_type": "code",
   "execution_count": 3,
   "metadata": {
    "scrolled": true
   },
   "outputs": [
    {
     "name": "stdout",
     "output_type": "stream",
     "text": [
      "[9 1 2 3 4]\n"
     ]
    }
   ],
   "source": [
    "x[0] = 9\n",
    "\n",
    "print(x)"
   ]
  },
  {
   "cell_type": "markdown",
   "metadata": {},
   "source": [
    "# Del 1: Simulere eksponentiell vekst av populasjoner\n",
    "\n",
    "<img src=\"https://raw.githubusercontent.com/kodeskolen/tekna_v21_videre/main/dag2/notebooks/Befolkningsvekst/bilder/kaniner_1.png\" >\n",
    "\n",
    "Nå skal vi simulere hvordan dyrepopulasjoner utvikler seg. La oss se for oss at vi har en øy med $200$ kaniner på, også skal vi simulere hvordan kaninbefolkningen endrer seg. Det første, enkleste eksempelet vil jo være at det er en konstant økning av kaniner hvert år, f.eks. kan det bli født 100 nye kaniner hvert år. Matematisk, så kan vi skrive den modellen slik:\n",
    "\n",
    "$ \\Large{k_{t} = k_{t-1} + 200}, $\n",
    "\n",
    "hvor $k_t$ er antall kaniner etter $t$ år. Denne lineære veksten er veldig urealistisk. Vekstraten til dyrene er jo avhengig av hvor mange dyr vi har på øya vår. Hvis vi ikke har noen dyr på øya, så kan vi vel ikke få 200 kaniner neste år!? Hvis vi har to kaniner, så vil vekstraten være mindre enn hvis vi har 4 kaniner, for det er jo bare halvparten så mange som kan få nye kaninunger. Det er derfor naturlig å tenke at vekstraten til kaniner er proposjonal med antall kaniner vi har på øya, altså blir den slik:\n",
    "\n",
    "$ \\Large{k_{t} = k_{t-1} + f k_{t-1}}, $\n",
    "\n",
    "hvor $k_t$ er antall kaniner i år $t$, $k_{t-1}$ er antall kaniner året før og $f$ er fødselsraten. Om vi bruker denne modellen for å simulere systemet vårt så vil jo ingen kaniner dø. Igjen så vet vi at hvis vi har 100 kaniner så kan dobbelt så mange dø som om vi har 50 kaniner, og det er derfor logisk å tenke at dødsraten er proposjonal med antall kaniner på øya fra før. Matematisk blir det\n",
    "\n",
    "$ \\Large{k_{t} = k_{t-1} + f k_{t-1} - d k_{t-1}}, $\n",
    "\n",
    "hvor $d$ er dødsraten til kaninene. Dette ser vi at vi kan skrive om til å bli\n",
    "\n",
    "\n",
    "$ \\Large{k_{t} = k_{t-1} + r k_{t-1}}, $\n",
    "\n",
    "hvor $r=(f - d)$ er vekstraten til kaninene våre. Hvis vi bruker programmering, så får vi:\n",
    "\n",
    "\n",
    "<code style=\"font-size: 22pt\">k[t] = k[t-1] + r*k[t-1]</code>\n",
    "\n",
    "La oss simulere systemet med en dødsrate, $d=0.1$ og fødselsrate, $f=0.2$"
   ]
  },
  {
   "cell_type": "code",
   "execution_count": 4,
   "metadata": {},
   "outputs": [
    {
     "name": "stdout",
     "output_type": "stream",
     "text": [
      "[200.        220.        242.        266.2       292.82      322.102\n",
      " 354.3122    389.74342   428.717762  471.5895382]\n"
     ]
    }
   ],
   "source": [
    "from pylab import zeros\n",
    "\n",
    "antall_år = 10\n",
    "\n",
    "dødsrate = 0.1\n",
    "fødselsrate = 0.2\n",
    "vekstrate = fødselsrate - dødsrate\n",
    "\n",
    "k = zeros(antall_år)\n",
    "k[0] = 200\n",
    "\n",
    "for t in range(1,antall_år):\n",
    "    k[t] = k[t-1] + vekstrate*k[t-1]\n",
    "\n",
    "print(k)"
   ]
  },
  {
   "cell_type": "code",
   "execution_count": 5,
   "metadata": {},
   "outputs": [
    {
     "data": {
      "image/png": "[encoded data removed]",
      "text/plain": [
       "<Figure size 432x288 with 1 Axes>"
      ]
     },
     "metadata": {
      "needs_background": "light"
     },
     "output_type": "display_data"
    }
   ],
   "source": [
    "from pylab import plot, show, xlabel, ylabel\n",
    "\n",
    "plot(range(antall_år), k, '-o')\n",
    "xlabel('Tid [år]')\n",
    "ylabel('Antall kaniner')\n",
    "show()"
   ]
  },
  {
   "cell_type": "markdown",
   "metadata": {},
   "source": [
    "Men hva skjer om vi simulerer øya over lengre tid?"
   ]
  },
  {
   "cell_type": "code",
   "execution_count": 6,
   "metadata": {},
   "outputs": [
    {
     "data": {
      "image/png": "[encoded data removed]",
      "text/plain": [
       "<Figure size 432x288 with 1 Axes>"
      ]
     },
     "metadata": {
      "needs_background": "light"
     },
     "output_type": "display_data"
    }
   ],
   "source": [
    "antall_år = 100\n",
    "\n",
    "dødsrate = 0.1\n",
    "fødselsrate = 0.2\n",
    "vekstrate = fødselsrate - dødsrate\n",
    "\n",
    "k = zeros(antall_år)\n",
    "k[0] = 200\n",
    "\n",
    "for t in range(1, antall_år):\n",
    "    k[t] = k[t-1] + vekstrate*k[t-1]\n",
    "\n",
    "\n",
    "plot(range(antall_år), k, '-o')\n",
    "xlabel('Tid [år]')\n",
    "ylabel('Antall kaniner')\n",
    "show()"
   ]
  },
  {
   "cell_type": "markdown",
   "metadata": {},
   "source": [
    "Vi ser at vi får ca 2.5 millioner dyr på øya. Med denne modellen vil befolkningen bare vokse helt uhemmet, og det har den ikke plass til!\n",
    "\n",
    "<img src=\"https://raw.githubusercontent.com/kodeskolen/tekna_v21_videre/main/dag2/notebooks/Befolkningsvekst/bilder/kaniner_3.png\">"
   ]
  },
  {
   "cell_type": "markdown",
   "metadata": {},
   "source": [
    "# Del 2: Bærekraftig vekst\n",
    "Den matematiske modellen vi har lagd så langt har ikke noen form for *bærekraftig vekst*. Øya vår har jo ikke mat, eller plass, til uendelig med kaniner. Derfor ønsker vi en modell hvor vekstraten endrer seg basert på hvor mange kaniner som er på øya fra før. Vi ønsker altså en modell på formen:\n",
    "\n",
    "$ \\Large{k_{t} = k_{t-1} + r(k_{t-1}) k_{t-1}}, $\n",
    "\n",
    "som med kode blir dette:\n",
    "\n",
    "<code style=\"font-size: 22pt\">k[t] = k[t-1] + vekstrate(k[t-1])*k[t-1]</code>\n",
    "\n",
    "Det naturlige spørsmålet vårt nå er hvilken form vi tror at vekstraten, $r(k)$, skal ha. La oss starte med noen observasjoner.\n",
    "\n",
    " 1. Øya har en bæreevne, $N$, som er antallet kaniner øya har plass og mat til.\n",
    " 1. Hvis $k_t \\approx 0$ så ønsker vi eksponensiell vekst for da er bæreevnen mye høyere enn antallet dyr. \n",
    "    * Altså er den ubegrensede vekstraten, $r(0) = r_0 > 1$.\n",
    " 1. Hvis $k_t \\approx N$ så ønsker vi at det skal være ca like mange dyr på øya hvert år.\n",
    "    * Altså er $r(N) = 1$.\n",
    "\n",
    "Den letteste måten å få en funksjon på denne formen er å tenke seg en rett linje som går igjennom punktene $(0, r_0)$ og $(K, 0)$, slik vi ser i figuren under\n",
    "\n",
    "<img src=\"https://raw.githubusercontent.com/kodeskolen/tekna_v21_videre/main/dag2/notebooks/Befolkningsvekst/bilder/vekstmengde.png\" width=\"600px\" />\n",
    "\n",
    "Hvis vi bruker funksjonen over for den relative vekstraten så får vi dette uttrykket for $r$:\n",
    "\n",
    "$ \\Large{r(k) = r_0 \\left(1 - \\frac{k}{N} \\right)}. $"
   ]
  },
  {
   "cell_type": "markdown",
   "metadata": {},
   "source": [
    "## Oppgave 1 a)\n",
    "Lag en funksjon  \n",
    "`vekstrate(antall_kaniner)`\n",
    "som tar inn antall kaniner og returnerer vekstraten for et system bæreevnen $N=5000$ og ubegrensede vekstrate $r_0=0.5$. \n",
    "\n",
    "**HINT:** Vekstraten for et gitt antall kaniner finner du ved å bruke formelen for $r(k)$ over hvor $r$ er `vekstrate` og $k$ er `antall_kaniner`. "
   ]
  },
  {
   "cell_type": "code",
   "execution_count": 7,
   "metadata": {},
   "outputs": [],
   "source": [
    "def vekstrate(antall_kaniner):\n",
    "    return 0.5*(1 - antall_kaniner/5000)"
   ]
  },
  {
   "cell_type": "markdown",
   "metadata": {},
   "source": [
    "## Oppgave 1b)\n",
    "Test at funksjonen din virker ved å printe ut vekstraten til et system med vekstrate lik 0.5 og bæreevne lik 5000 kaniner. Test ut med 0 kaniner og med 5000 kaniner. Med 0 kaniner skal vekstraten være lik 0.5 og med 5000 kaniner skal vekstraten være 0."
   ]
  },
  {
   "cell_type": "code",
   "execution_count": 8,
   "metadata": {},
   "outputs": [
    {
     "name": "stdout",
     "output_type": "stream",
     "text": [
      "0.5\n",
      "0.0\n"
     ]
    }
   ],
   "source": [
    "print(vekstrate(0))\n",
    "print(vekstrate(5000))"
   ]
  },
  {
   "cell_type": "markdown",
   "metadata": {},
   "source": [
    "## Oppgave 2\n",
    "Ta utgangspunkt i \"eksponensiell vekst\" koden og simuler en øy med en bæreevne på 5000 og ubegrenset vekstrate på 0.5 i 40 år.\n",
    "\n",
    "### Hint:\n",
    " * Du trenger kun legge til to linjer kode\n",
    "   * En av de kan være i løkka hvor du regner ut den ubegrensede vekstraten."
   ]
  },
  {
   "cell_type": "code",
   "execution_count": 9,
   "metadata": {},
   "outputs": [
    {
     "data": {
      "image/png": "[encoded data removed]",
      "text/plain": [
       "<Figure size 432x288 with 1 Axes>"
      ]
     },
     "metadata": {
      "needs_background": "light"
     },
     "output_type": "display_data"
    }
   ],
   "source": [
    "antall_år = 40\n",
    "\n",
    "k = zeros(antall_år)\n",
    "k[0] = 200\n",
    "\n",
    "for t in range(antall_år - 1):\n",
    "    k[t+1] = k[t] + vekstrate(k[t])*k[t]\n",
    "\n",
    "\n",
    "plot(range(antall_år), k, '-o')\n",
    "xlabel('Tid [år]')\n",
    "ylabel('Antall kaniner')\n",
    "show()"
   ]
  },
  {
   "cell_type": "markdown",
   "metadata": {},
   "source": [
    "## Oppgave 3\n",
    "Gjør om koden over til å bruke en glidebryter (slider) som kan endre den ubegrensede vekstraten og bæreevnen. Vekstraten skal kunne være mellom `0.0` og `3.5` og bæreevnen skal kunne være mellom `100` og `10000`.\n",
    "\n",
    "### Hint:\n",
    "  * Du må opprette en funksjon som tar inn vekstraten og bæreevnen, simulerer øya og plotter resultatet.\n",
    "    * Denne funksjonen kan f.eks. hete `plott_bærekraftig_vekst(bæreevne, ubegrenset_vekstrate)`\n",
    "  * Inni denne funksjonen kan du opprette en ny vekstrate-funksjon\n",
    "  * Du må bruke `interact` funksjonen, hvis du ikke husker hvordan den fungerte kan du se på *Intro til notebook* notatboka."
   ]
  },
  {
   "cell_type": "code",
   "execution_count": 10,
   "metadata": {},
   "outputs": [
    {
     "data": {
      "application/vnd.jupyter.widget-view+json": {
       "model_id": "5505e12731c542fb97b0f597ce86f96c",
       "version_major": 2,
       "version_minor": 0
      },
      "text/plain": [
       "interactive(children=(IntSlider(value=5050, description='bæreevne', max=10000, min=100), FloatSlider(value=1.7…"
      ]
     },
     "metadata": {},
     "output_type": "display_data"
    },
    {
     "data": {
      "text/plain": [
       "<function __main__.plott_bærekraftig_vekst(bæreevne, ubegrenset_vekstrate)>"
      ]
     },
     "execution_count": 10,
     "metadata": {},
     "output_type": "execute_result"
    }
   ],
   "source": [
    "from ipywidgets import interact\n",
    "\n",
    "def plott_bærekraftig_vekst(bæreevne, ubegrenset_vekstrate):\n",
    "    def vekstrate(antall_kaniner):\n",
    "        return ubegrenset_vekstrate*(1 - antall_kaniner/bæreevne)\n",
    "    antall_år = 40\n",
    "\n",
    "    k = zeros(antall_år)\n",
    "    k[0] = 200\n",
    "\n",
    "    for t in range(antall_år - 1):\n",
    "        k[t+1] = k[t] + vekstrate(k[t])*k[t]\n",
    "\n",
    "\n",
    "    plot(range(antall_år), k, '-o')\n",
    "    xlabel('Tid [år]')\n",
    "    ylabel('Antall kaniner')\n",
    "    show()\n",
    "    \n",
    "interact(plott_bærekraftig_vekst, bæreevne=(100, 10000), ubegrenset_vekstrate=(0.0, 3.5))"
   ]
  },
  {
   "cell_type": "markdown",
   "metadata": {},
   "source": [
    "## Oppgave 4\n",
    "Utforsk effekten av forskjellige parametre på simuleringen."
   ]
  },
  {
   "cell_type": "markdown",
   "metadata": {},
   "source": [
    "# Del 3: Rovdyr-byttedyr dynamikk\n",
    "\n",
    "La oss nå tenke oss at vi, istedenfor å introdusere bare kaniner til øya vår, introduserer både kaniner og gauper. Før vi kan beskrive et slikt system matematisk så bør vi tenke hvordan det gir mening at det biologiske systemet utvikler seg. Så, når vi har kommet frem til det, kan vi tenke på hvordan vi kan beskrive et slikt system matematisk.\n",
    "\n",
    "<img src=\"https://raw.githubusercontent.com/kodeskolen/tekna_v21_videre/main/dag2/notebooks/Befolkningsvekst/bilder/kaniner_2.png\">\n",
    "\n",
    "Hvis vi skal tenke oss hvordan øya er, kan vi komme frem til disse fire reglene:\n",
    " 1. Hvis det ikke er noen gauper tilstede, så utvikler kaninpopulasjonen seg som om det bærekraftig vekst.\n",
    " 2. Jo flere gauper jo høyere blir dødsraten til kaninene.\n",
    " 3. Bæreevnen til gaupene er avhengig av antallet kaniner.\n",
    " 4. gaupene dør også av naturlige årsaker som ikke er relatert til mengden kaniner som er tilgjengelig.\n",
    "La oss nå sette opp likninger som tar hensyn til alle disse reglene.\n",
    "\n",
    "## Kaniner:\n",
    "Vi har allerede modellert kaninbestanden med en bærekraftig vekst-likning:\n",
    "\n",
    "$ \\Large{k_{t+1} = r(k_t) k_t.} $\n",
    "\n",
    "### Kaniner som blir jaktet:\n",
    "Når kaninene blir jaktet på trenger vi vite hvor mange kaniner gaupene spiser. Hvis hver gaupe har en apetitt, altså et visst antall kaniner de vil spise, vil vi få en proposjonalitetssammenheng mellom antall gauper og dødsraten. Vi kan bruke variabelen, $a_u$ for å beskrive gaupeappetitten, og få denne likningen for kaninbestanden:\n",
    "\n",
    "$ \\Large{k_{t+1} = r(k_t) k_t - (a_u g_t) k_t,} $\n",
    "\n",
    "hvor $g_t$ er antallet gauper i år $t$. \n",
    "\n",
    "### Den relative vekstraten for kaniner: \n",
    "Siden kaniner blir jaktet på vet vi empirisk at kaninbestanden ikke vil nærme seg bæreevnen til øya — de blir spist av gaupene lenge før det. Dermed trenger vi ikke bruke den kompliserte formelen for relativ vekstrate fra forrige avsnitt. Istedenfor kan vi modellere fødselsraten til kaninene slik vi gjorde i første avsnitt, og dermed få likninger som er litt lettere å håndtere. Hvis vi gjør det får vi denne likningen for harebestanden:\n",
    "\n",
    "$ \\Large{k_{t+1} = k_t + f_k k_t - (a_g g_t) k_t.} $\n",
    "\n",
    "## Gauper:\n",
    "Bæreevnen til gaupepopulasjonen er gitt ved antallet kaniner på øya. Igjen, hvis hver gaupe må spise 500 kaniner i året for å overleve, så er bæreevnen til Gaupene proposjonal med antallet kaniner. Dermed, hvis vi antar at antallet gaupeunger som overlever er proposjonalt med antall gauper og antall kaniner får vi denne likningen for gaupepopulasjonen:\n",
    "\n",
    "$ \\Large{g_{t+1} = g_t + (f_g k_t) g_t} $\n",
    "\n",
    "\n",
    "### Gauper dør også:\n",
    "Siden det ikke er noen som jakter på gauper så kan vi anta at de dør med en konstant frekvens. Altså, hvor mange gauper som dør i løpet av et år er proposjonalt med hvor mange gauper som er på øya. Hvis vi kombinerer det med likningen over får vi:\n",
    "\n",
    "$ \\Large{g_{t+1} = g_t + (f_g k_t) g_t - d_g g_t.} $\n",
    "\n",
    "\n",
    "## Sammendrag av modellen:\n",
    "Bestanden kaniner og gauper kan vi altså beskrive med disse to likningene:\n",
    "\n",
    "$ \\Large{k_{t+1} = k_t + f_k k_t - (a_g g_t) k_t.} $\n",
    "$ \\Large{g_{t+1} = g_t + (f_g k_t) g_t - d_g g_t,} $\n",
    "\n",
    "Her ble det mange konstanter gitt! Jeg liker å visualisere disse likningene slik:\n",
    "\n",
    "<img src=\"https://raw.githubusercontent.com/kodeskolen/tekna_v21_videre/main/dag2/notebooks/Befolkningsvekst/bilder/rovdyr_byttedyr_byttedyr.png\" width=\"600px\">\n",
    "<img src=\"https://raw.githubusercontent.com/kodeskolen/tekna_v21_videre/main/dag2/notebooks/Befolkningsvekst/bilder/rovdyr_byttedyr_rovdyr.png\" width=\"600px\">\n",
    "\n",
    "Antallet kaniner neste år er gitt ved antallet kaniner i år, pluss antallet nye kaniner, minus antallet kaniner som blir spist av gaupene. Tilsvarende er antallet gauper neste år gitt ved antallet gauper dette året, pluss antallet nye gauper som det er mat til, minus antallet gauper som dør. Hvis vi vil programmere det, kan vi skrive det slik:\n",
    "\n",
    "<code style=\"font-size: 22pt\">k[t+1] = k[t] + f_k * k[t] - a_g * k[t] * g[t]</code>\n",
    "\n",
    "<code style=\"font-size: 22pt\">g[t+1] = g[t] + f_g * k[t] * g[t] - d_g * g[t]</code>\n",
    "\n",
    "### Sammendrag over størrelsene:\n",
    "Her ble det mange variabler, så la oss se grundigere på dem\n",
    "  * $k_t$ - Antall kaniner i år $t$\n",
    "  * $g_t$ - Antall gauper i år $t$\n",
    "  * $f_k$ - Den relative fødselsraten til kaniner.\n",
    "  * $f_g$ - Den relative fødselsraten til gauper. \n",
    "  * $a_g$ - Appetitten til gauper.\n",
    "  * $d_g$ - Den relative dødsraten til gauper.\n",
    "\n",
    "Vi har altså et system hvor antallet kaniner kan vokse fritt om vi ikke har noen gauper til stede. Gaupene jakter på kaninene så hvis det er mange gauper tilstede så dør mange kaniner.\n",
    "\n",
    "## Problemer med denne modellen:\n",
    "Det er dessverre et problem med denne modellen, og det er at den ser på år for år. Dessverre er det slik at utviklingen år for år er mer komplisert enn det vi har skrevet over. Men, fortvil ikke! For alt vi har sagt gir jo mening, men sammenhengene gjelder ikke for år, men for kortere tidsintervall, slik som dager. Det eneste vi trenger å gjøre for at modellen skal gjelde dag-for-dag istedenfor år-for-år er å dele konstantene våre på antall dager det er i et år.\n",
    "\n",
    "\n",
    "## Valg av størrelser:\n",
    "I denne simuleringen kommer vi til å bruke parametre som ikke helt gir mening hvis vi har et system med kun gauper kaniner. Grunnen til det er at hvis vi har \"fornuftige\" verdier for parameterne vil vi få så mange flere kaniner enn gauper at vi vil ikke kunne se noen endring i gaupebestanden over tid. Vi setter disse verdiene for parameterne:\n",
    "\n",
    "  * $k_0 = 10.0$ - Antall kaniner det første året\n",
    "  * $g_0 = 2.00$ - Antall gauper det første året\n",
    "  * $f_k = 5.00$ - Den relative fødselsraten til kaniner per dag.\n",
    "  * $f_g = 0.15$ - Den relative fødselsraten til gauper per dag. \n",
    "  * $a_g = 2.50$ - Appetitten til gauper per dag.\n",
    "  * $d_g = 0.50$ - Den relative dødsraten til gauper per dag."
   ]
  },
  {
   "cell_type": "markdown",
   "metadata": {},
   "source": [
    "\n",
    "$\n",
    "\\Huge{k_{t+1} = k_t + f_k k_t - (a_g g_t) k_t}. \n",
    "$\n",
    "\n",
    "$\n",
    "\\Huge{g_{t+1} = g_t + (f_g k_t) g_t - d_g g_t}. \n",
    "$"
   ]
  },
  {
   "cell_type": "code",
   "execution_count": 11,
   "metadata": {},
   "outputs": [],
   "source": [
    "dager_i_år = 365\n",
    "antall_år = 10\n",
    "antall_dager = antall_år*dager_i_år\n",
    "\n",
    "f_k = 5/dager_i_år\n",
    "f_g = 0.15/dager_i_år\n",
    "a_g = 1.5/dager_i_år\n",
    "d_g = 0.5/dager_i_år\n",
    "\n",
    "k = zeros(antall_dager)\n",
    "k[0] = 10 # start mengde kaniner\n",
    "g = zeros(antall_dager)\n",
    "g[0] = 2\n",
    "\n",
    "for t in range(antall_dager - 1):\n",
    "    k[t+1] = k[t] + f_k*k[t] - a_g*g[t]*k[t]\n",
    "    g[t+1] = g[t] + f_g*g[t]*k[t] -  d_g*g[t]"
   ]
  },
  {
   "cell_type": "code",
   "execution_count": 12,
   "metadata": {},
   "outputs": [
    {
     "data": {
      "image/png": "[encoded data removed]",
      "text/plain": [
       "<Figure size 432x288 with 1 Axes>"
      ]
     },
     "metadata": {
      "needs_background": "light"
     },
     "output_type": "display_data"
    }
   ],
   "source": [
    "from pylab import legend\n",
    "    \n",
    "plot(range(antall_dager), k, label='Kaniner')\n",
    "plot(range(antall_dager), g, label='Gauper')\n",
    "\n",
    "legend()\n",
    "xlabel('Dager')\n",
    "ylabel('Antall dyr')\n",
    "show()"
   ]
  },
  {
   "cell_type": "markdown",
   "metadata": {},
   "source": [
    "Her har vi altså sett hvordan vi kan modellere gaupe og kanin populasjoner matematisk, men stemmer disse tallene overens med virkeligheten? Vel, det kan vi faktisk sjekke. Det har seg nemlig slik at det kanadiske selskapet Hudson's Bay Company samlet inn data på hvor mye hareskinn og gaupeskinn de fikk inn hvert år. \n",
    "\n",
    "<img src=\"bilder/gauperogharer.png\">\n",
    "\n",
    "Vi ser altså at mengden harer og gauper følger et periodisk mønster som likner veldig på det vi har i simuleringen vår! "
   ]
  },
  {
   "cell_type": "markdown",
   "metadata": {},
   "source": [
    "## Oppgave 6 a) (bonusoppgave): Interaktiv rovdyr-byttedyr simulering\n",
    "\n",
    "Fyll inn skjelettkoden under for å lage en interaktiv simulering av et simulere et rovdyr-byttedyr system (du trenger kun fylle inn i linje 34 og 35)."
   ]
  },
  {
   "cell_type": "code",
   "execution_count": 13,
   "metadata": {},
   "outputs": [],
   "source": [
    "def plott_rovdyr_byttedyr(\n",
    "    kaniner_fødselsrate,\n",
    "    gauper_fødselsrate,\n",
    "    gaupeappetitt,\n",
    "    gaupedødsrate,\n",
    "    start_kaniner,\n",
    "    start_gauper,\n",
    "    antall_år\n",
    "):\n",
    "    # Tidsvariabler\n",
    "    dager_i_år = 365\n",
    "    alle_år = arange(antall_år*dager_i_år)/dager_i_år\n",
    "\n",
    "    # Kanin og gaupevariabler\n",
    "    antall_kaniner = zeros(antall_år*dager_i_år)\n",
    "    antall_kaniner[0] = start_kaniner\n",
    "\n",
    "    antall_gauper = zeros(antall_år*dager_i_år)\n",
    "    antall_gauper[0] = start_gauper\n",
    "\n",
    "\n",
    "    for år in range(antall_år*dager_i_år - 1):  # Hvert etterfølgende år\n",
    "        # Simuleringsparametre\n",
    "        f_k = kaniner_fødselsrate/365\n",
    "        f_g = gauper_fødselsrate/365\n",
    "        a_g = gaupeappetitt/365\n",
    "        d_g = gaupedødsrate/365\n",
    "\n",
    "        # Populasjonsvariabler\n",
    "        k_t = antall_kaniner[år]  # Antall kaniner dette året\n",
    "        g_t = antall_gauper[år]   # Antall gauper dette året\n",
    "\n",
    "        # Finn antall kaniner og gauper neste år\n",
    "        antall_kaniner[år+1] = k_t + (f_k * k_t - a_g * g_t * k_t)\n",
    "        antall_gauper[år+1] = g_t + (f_g * k_t * g_t - d_g * g_t)\n",
    "        \n",
    "    \n",
    "    # Vis frem antall kaniner som funksjon av år\n",
    "    plot(alle_år, antall_kaniner, '-', label=\"Kaniner\")\n",
    "    plot(alle_år, antall_gauper, '-', label=\"Gauper\")\n",
    "\n",
    "    # Pynt på plottet\n",
    "    xlabel(\"År\")\n",
    "    ylabel(\"Antall kaniner\")\n",
    "    legend()\n",
    "    show()"
   ]
  },
  {
   "cell_type": "markdown",
   "metadata": {},
   "source": [
    "## Oppgave 6 b) (bonusoppgave): Interaktiv rovdyr-byttedyr simulering\n",
    "\n",
    "Bruk den interaktive simuleringen din for å se hva som skjer når du endrer parameterne i den."
   ]
  },
  {
   "cell_type": "code",
   "execution_count": 14,
   "metadata": {},
   "outputs": [
    {
     "data": {
      "application/vnd.jupyter.widget-view+json": {
       "model_id": "386e0f31ddfc4ef699d14ef731295e4b",
       "version_major": 2,
       "version_minor": 0
      },
      "text/plain": [
       "interactive(children=(IntSlider(value=5, description='kaniner_fødselsrate', max=15, min=-5), FloatSlider(value…"
      ]
     },
     "metadata": {},
     "output_type": "display_data"
    },
    {
     "data": {
      "text/plain": [
       "<function __main__.plott_rovdyr_byttedyr(kaniner_fødselsrate, gauper_fødselsrate, gaupeappetitt, gaupedødsrate, start_kaniner, start_gauper, antall_år)>"
      ]
     },
     "execution_count": 14,
     "metadata": {},
     "output_type": "execute_result"
    }
   ],
   "source": [
    "interact(\n",
    "    plott_rovdyr_byttedyr,\n",
    "    kaniner_fødselsrate = 5,\n",
    "    gauper_fødselsrate = 0.15,\n",
    "    gaupeappetitt = 1.5,\n",
    "    gaupedødsrate = 0.5,\n",
    "    start_kaniner = 10,\n",
    "    start_gauper = 2,\n",
    "    antall_år=40,    \n",
    ")"
   ]
  },
  {
   "cell_type": "code",
   "execution_count": null,
   "metadata": {},
   "outputs": [],
   "source": []
  }
 ],
 "metadata": {
  "kernelspec": {
   "display_name": "Python 3",
   "language": "python",
   "name": "python3"
  },
  "language_info": {
   "codemirror_mode": {
    "name": "ipython",
    "version": 3
   },
   "file_extension": ".py",
   "mimetype": "text/x-python",
   "name": "python",
   "nbconvert_exporter": "python",
   "pygments_lexer": "ipython3",
   "version": "3.7.6"
  }
 },
 "nbformat": 4,
 "nbformat_minor": 4
}
