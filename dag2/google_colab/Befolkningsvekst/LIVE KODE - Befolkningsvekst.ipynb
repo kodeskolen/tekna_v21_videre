{
 "cells": [
  {
   "cell_type": "markdown",
   "metadata": {},
   "source": [
    "# Del 0: Vi kan indeksere arrayer for å hente ut eller oppdatere elementer\n",
    "<img src=\"https://raw.githubusercontent.com/kodeskolen/tekna_v21_videre/main/dag2/notebooks/Befolkningsvekst/bilder/array_indexing.png\" width=\"600px\">\n"
   ]
  },
  {
   "cell_type": "code",
   "execution_count": null,
   "metadata": {},
   "outputs": [],
   "source": []
  },
  {
   "cell_type": "code",
   "execution_count": null,
   "metadata": {},
   "outputs": [],
   "source": []
  },
  {
   "cell_type": "markdown",
   "metadata": {},
   "source": [
    "# Del 1: Simulere eksponentiell vekst av populasjoner\n",
    "\n",
    "<img src=\"https://raw.githubusercontent.com/kodeskolen/tekna_v21_videre/main/dag2/notebooks/Befolkningsvekst/bilder/kaniner_1.png\" >"
   ]
  },
  {
   "cell_type": "markdown",
   "metadata": {},
   "source": [
    "## Antall kaniner som blir født på øya er avhengig av hvor mange som kan få barn"
   ]
  },
  {
   "cell_type": "markdown",
   "metadata": {},
   "source": [
    "Matematisk modell:\n",
    "\n",
    "$ \\Huge{k_{t} = k_{t-1} + f k_{t-1} - d k_{t-1}}. $\n",
    "\n",
    "Vi kan skrive den om til å bli:\n",
    "\n",
    "$ \\Huge{k_{t} = k_{t-1} + r k_{t-1}}, $\n",
    "\n",
    "hvor $r=(f - d)$ er vekstraten til kaninene våre. Hvis vi bruker programmering, så får vi:\n",
    "\n",
    "<code style=\"font-size: 32pt\">k[t] = k[t-1] + r*k[t-1]</code>"
   ]
  },
  {
   "cell_type": "code",
   "execution_count": null,
   "metadata": {},
   "outputs": [],
   "source": []
  },
  {
   "cell_type": "code",
   "execution_count": null,
   "metadata": {},
   "outputs": [],
   "source": []
  },
  {
   "cell_type": "markdown",
   "metadata": {},
   "source": [
    "Men hva skjer om vi simulerer øya over lengre tid?"
   ]
  },
  {
   "cell_type": "code",
   "execution_count": null,
   "metadata": {},
   "outputs": [],
   "source": []
  },
  {
   "cell_type": "markdown",
   "metadata": {},
   "source": [
    "Vi ser at vi får ca 2.5 millioner dyr på øya. Med denne modellen vil befolkningen bare vokse helt uhemmet, og det har den ikke plass til!\n",
    "\n",
    "<img src=\"https://raw.githubusercontent.com/kodeskolen/tekna_v21_videre/main/dag2/notebooks/Befolkningsvekst/bilder/kaniner_3.png\">"
   ]
  },
  {
   "cell_type": "markdown",
   "metadata": {},
   "source": [
    "# Del 2: Bærekraftig vekst\n",
    "\n",
    "$ \\Huge{k_{t} = k_{t-1} + r(k_{t-1}) k_{t-1}}, $\n",
    "\n",
    "denne rekka kan vi skrive i Python på denne måten\n",
    "\n",
    "<code style=\"font-size: 28pt\">k[t] = k[t-1] + vekstrate(k[t-1])*k[t-1]</code>\n",
    "\n",
    "\n",
    "## For å finne denne vekstraten gjør vi noen observasjoner\n",
    " 1. Øya har en bæreevne, $N$, som er antallet kaniner øya har plass og mat til.\n",
    " 1. Hvis $k_t$ er liten så ønsker vi eksponensiell vekst for da er bæreevnen mye høyere enn antallet dyr. \n",
    " 1. Hvis $k_t$ er nærme $N$ så ønsker vi at det skal være ca like mange dyr på øya hvert år.\n",
    "\n",
    "Den letteste måten å få en funksjon på denne formen er å tenke seg en rett linje som går igjennom punktene $(0, r_0)$ og $(K, 0)$, slik vi ser i figuren under\n",
    "\n",
    "<img src=\"https://raw.githubusercontent.com/kodeskolen/tekna_v21_videre/main/dag2/notebooks/Befolkningsvekst/bilder/vekstmengde.png\" width=\"600px\" />\n",
    "\n",
    "Hvis vi bruker funksjonen over for den relative vekstraten så får vi dette uttrykket for $r$:\n",
    "\n",
    "$ \\Huge{r(k) = r_0 \\left(1 - \\frac{k}{N} \\right)}. $"
   ]
  },
  {
   "cell_type": "markdown",
   "metadata": {},
   "source": [
    "## Oppgave 1 a)\n",
    "Lag en funksjon  \n",
    "`vekstrate(antall_kaniner)`\n",
    "som tar inn antall kaniner og returnerer vekstraten for et system bæreevnen $N=5000$ og ubegrensede vekstrate $r_0=0.5$. \n",
    "\n",
    "**HINT:** Vekstraten for et gitt antall kaniner finner du ved å bruke formelen for $r(k)$ over hvor $r$ er `vekstrate` og $k$ er `antall_kaniner`. "
   ]
  },
  {
   "cell_type": "code",
   "execution_count": null,
   "metadata": {},
   "outputs": [],
   "source": []
  },
  {
   "cell_type": "markdown",
   "metadata": {},
   "source": [
    "## Oppgave 1b)\n",
    "Test at funksjonen din virker ved å printe ut vekstraten til et system med vekstrate lik 0.5 og bæreevne lik 5000 kaniner. Test ut med 0 kaniner og med 5000 kaniner. Med 0 kaniner skal vekstraten være lik 0.5 og med 5000 kaniner skal vekstraten være 0."
   ]
  },
  {
   "cell_type": "code",
   "execution_count": null,
   "metadata": {},
   "outputs": [],
   "source": []
  },
  {
   "cell_type": "markdown",
   "metadata": {},
   "source": [
    "## Oppgave 2\n",
    "Ta utgangspunkt i \"eksponensiell vekst\" koden og simuler en øy med en bæreevne på 5000 og ubegrenset vekstrate på 0.5 i 40 år.\n",
    "\n",
    "### Hint:\n",
    " * Du trenger kun legge til to linjer kode\n",
    "   * En av de kan være i løkka hvor du regner ut den ubegrensede vekstraten."
   ]
  },
  {
   "cell_type": "code",
   "execution_count": null,
   "metadata": {},
   "outputs": [],
   "source": []
  },
  {
   "cell_type": "markdown",
   "metadata": {},
   "source": [
    "## Oppgave 3\n",
    "Gjør om koden over til å bruke en glidebryter (slider) som kan endre den ubegrensede vekstraten og bæreevnen. Vekstraten skal kunne være mellom `0.0` og `3.5` og bæreevnen skal kunne være mellom `100` og `10000`.\n",
    "\n",
    "### Hint:\n",
    "  * Du må opprette en funksjon som tar inn vekstraten og bæreevnen, simulerer øya og plotter resultatet.\n",
    "    * Denne funksjonen kan f.eks. hete `plott_bærekraftig_vekst(bæreevne, ubegrenset_vekstrate)`\n",
    "  * Inni denne funksjonen kan du opprette en ny vekstrate-funksjon\n",
    "  * Du må bruke `interact` funksjonen, hvis du ikke husker hvordan den fungerte kan du se på *Intro til notebook* notatboka."
   ]
  },
  {
   "cell_type": "code",
   "execution_count": null,
   "metadata": {},
   "outputs": [],
   "source": [
    "from ipywidgets import interact\n"
   ]
  },
  {
   "cell_type": "markdown",
   "metadata": {},
   "source": [
    "## Oppgave 4\n",
    "Utforsk effekten av forskjellige parametre på simuleringen."
   ]
  },
  {
   "cell_type": "markdown",
   "metadata": {},
   "source": [
    "# Bonusopplegg: Rovdyr-byttedyr dynamikk\n",
    "\n",
    "La oss nå tenke oss at vi, istedenfor å introdusere bare kaniner til øya vår, introduserer både kaniner og gauper. Før vi kan beskrive et slikt system matematisk så bør vi tenke hvordan det gir mening at det biologiske systemet utvikler seg. Så, når vi har kommet frem til det, kan vi tenke på hvordan vi kan beskrive et slikt system matematisk.\n",
    "\n",
    "<img src=\"https://raw.githubusercontent.com/kodeskolen/tekna_v21_videre/main/dag2/notebooks/Befolkningsvekst/bilder/kaniner_2.png\">\n",
    "\n",
    "Hvis vi skal tenke oss hvordan øya er, kan vi komme frem til disse fire reglene:\n",
    " 1. Hvis det ikke er noen gauper tilstede, så utvikler kaninpopulasjonen seg som om det bærekraftig vekst.\n",
    " 2. Jo flere gauper jo høyere blir dødsraten til kaninene.\n",
    " 3. Bæreevnen til gaupene er avhengig av antallet kaniner.\n",
    " 4. gaupene dør også av naturlige årsaker som ikke er relatert til mengden kaniner som er tilgjengelig.\n",
    "La oss nå sette opp likninger som tar hensyn til alle disse reglene.\n",
    "\n",
    "## Kaniner:\n",
    "Vi har allerede modellert kaninbestanden med en bærekraftig vekst-likning:\n",
    "\n",
    "$ \\Large{k_{t+1} = r(k_t) k_t.} $\n",
    "\n",
    "### Kaniner som blir jaktet:\n",
    "Når kaninene blir jaktet på trenger vi vite hvor mange kaniner gaupene spiser. Hvis hver gaupe har en apetitt, altså et visst antall kaniner de vil spise, vil vi få en proposjonalitetssammenheng mellom antall gauper og dødsraten. Vi kan bruke variabelen, $a_u$ for å beskrive gaupeappetitten, og få denne likningen for kaninbestanden:\n",
    "\n",
    "$ \\Large{k_{t+1} = r(k_t) k_t - (a_u g_t) k_t,} $\n",
    "\n",
    "hvor $g_t$ er antallet gauper i år $t$. \n",
    "\n",
    "### Den relative vekstraten for kaniner: \n",
    "Siden kaniner blir jaktet på vet vi empirisk at kaninbestanden ikke vil nærme seg bæreevnen til øya — de blir spist av gaupene lenge før det. Dermed trenger vi ikke bruke den kompliserte formelen for relativ vekstrate fra forrige avsnitt. Istedenfor kan vi modellere fødselsraten til kaninene slik vi gjorde i første avsnitt, og dermed få likninger som er litt lettere å håndtere. Hvis vi gjør det får vi denne likningen for harebestanden:\n",
    "\n",
    "$ \\Large{k_{t+1} = k_t + f_k k_t - (a_g g_t) k_t.} $\n",
    "\n",
    "## Gauper:\n",
    "Bæreevnen til gaupepopulasjonen er gitt ved antallet kaniner på øya. Igjen, hvis hver gaupe må spise 500 kaniner i året for å overleve, så er bæreevnen til Gaupene proposjonal med antallet kaniner. Dermed, hvis vi antar at antallet gaupeunger som overlever er proposjonalt med antall gauper og antall kaniner får vi denne likningen for gaupepopulasjonen:\n",
    "\n",
    "$ \\Large{g_{t+1} = g_t + (f_g k_t) g_t} $\n",
    "\n",
    "\n",
    "### Gauper dør også:\n",
    "Siden det ikke er noen som jakter på gauper så kan vi anta at de dør med en konstant frekvens. Altså, hvor mange gauper som dør i løpet av et år er proposjonalt med hvor mange gauper som er på øya. Hvis vi kombinerer det med likningen over får vi:\n",
    "\n",
    "$ \\Large{g_{t+1} = g_t + (f_g k_t) g_t - d_g g_t.} $\n",
    "\n",
    "\n",
    "## Sammendrag av modellen:\n",
    "Bestanden kaniner og gauper kan vi altså beskrive med disse to likningene:\n",
    "\n",
    "$ \\Large{k_{t+1} = k_t + f_k k_t - (a_g g_t) k_t,} $\n",
    "\n",
    "$ \\Large{g_{t+1} = g_t + (f_g k_t) g_t - d_g g_t.} $\n",
    "\n",
    "Her ble det mange konstanter gitt! Jeg liker å visualisere disse likningene slik:\n",
    "\n",
    "<img src=\"https://raw.githubusercontent.com/kodeskolen/tekna_v21_videre/main/dag2/notebooks/Befolkningsvekst/bilder/rovdyr_byttedyr_byttedyr.png\" width=\"600px\">\n",
    "<img src=\"https://raw.githubusercontent.com/kodeskolen/tekna_v21_videre/main/dag2/notebooks/Befolkningsvekst/bilder/rovdyr_byttedyr_rovdyr.png\" width=\"600px\">\n",
    "\n",
    "Antallet kaniner neste år er gitt ved antallet kaniner i år, pluss antallet nye kaniner, minus antallet kaniner som blir spist av gaupene. Tilsvarende er antallet gauper neste år gitt ved antallet gauper dette året, pluss antallet nye gauper som det er mat til, minus antallet gauper som dør. Hvis vi vil programmere det, kan vi skrive det slik:\n",
    "\n",
    "<code style=\"font-size: 22pt\">k[t+1] = k[t] + f_k * k[t] - a_g * k[t] * g[t]</code>\n",
    "\n",
    "<code style=\"font-size: 22pt\">g[t+1] = g[t] + f_g * k[t] * g[t] - d_g * g[t]</code>\n",
    "\n",
    "### Sammendrag over størrelsene:\n",
    "Her ble det mange variabler, så la oss se grundigere på dem\n",
    "  * $k_t$ - Antall kaniner i år $t$\n",
    "  * $g_t$ - Antall gauper i år $t$\n",
    "  * $f_k$ - Den relative fødselsraten til kaniner.\n",
    "  * $f_g$ - Den relative fødselsraten til gauper. \n",
    "  * $a_g$ - Appetitten til gauper.\n",
    "  * $d_g$ - Den relative dødsraten til gauper.\n",
    "\n",
    "Vi har altså et system hvor antallet kaniner kan vokse fritt om vi ikke har noen gauper til stede. Gaupene jakter på kaninene så hvis det er mange gauper tilstede så dør mange kaniner.\n",
    "\n",
    "## Problemer med denne modellen:\n",
    "Det er dessverre et problem med denne modellen, og det er at den ser på år for år. Dessverre er det slik at utviklingen år for år er mer komplisert enn det vi har skrevet over. Men, fortvil ikke! For alt vi har sagt gir jo mening, men sammenhengene gjelder ikke for år, men for kortere tidsintervall, slik som dager. Det eneste vi trenger å gjøre for at modellen skal gjelde dag-for-dag istedenfor år-for-år er å dele konstantene våre på antall dager det er i et år.\n",
    "\n",
    "\n",
    "## Valg av størrelser:\n",
    "I denne simuleringen kommer vi til å bruke parametre som ikke helt gir mening hvis vi har et system med kun gauper kaniner. Grunnen til det er at hvis vi har \"fornuftige\" verdier for parameterne vil vi få så mange flere kaniner enn gauper at vi vil ikke kunne se noen endring i gaupebestanden over tid. Vi setter disse verdiene for parameterne:\n",
    "\n",
    "  * $k_0 = 10.0$ - Antall kaniner det første året\n",
    "  * $g_0 = 2.00$ - Antall gauper det første året\n",
    "  * $f_k = 5.00$ - Den relative fødselsraten til kaniner per dag.\n",
    "  * $f_g = 0.15$ - Den relative fødselsraten til gauper per dag. \n",
    "  * $a_g = 2.50$ - Appetitten til gauper per dag.\n",
    "  * $d_g = 0.50$ - Den relative dødsraten til gauper per dag."
   ]
  },
  {
   "cell_type": "markdown",
   "metadata": {},
   "source": [
    "## Oppgave 5 (bonusoppgave)\n",
    "\n",
    "Fyll inn skjelettkoden under for å simulere et rovdyr-byttedyr system (du trenger kun fylle inn i linje 16 og 17)."
   ]
  },
  {
   "cell_type": "code",
   "execution_count": null,
   "metadata": {},
   "outputs": [],
   "source": [
    "dager_i_år = 365\n",
    "antall_år = 10\n",
    "antall_dager = antall_år*dager_i_år\n",
    "\n",
    "f_k = 5/dager_i_år\n",
    "f_g = 0.15/dager_i_år\n",
    "a_g = 1.5/dager_i_år\n",
    "d_g = 0.5/dager_i_år\n",
    "\n",
    "k = zeros(antall_dager)\n",
    "k[0] = 10 # start mengde kaniner\n",
    "g = zeros(antall_dager)\n",
    "g[0] = 2\n",
    "\n",
    "for t in range(antall_dager - 1):\n",
    "    k[t+1] = \"... din kode her\"\n",
    "    g[t+1] = \"... din kode her\""
   ]
  },
  {
   "cell_type": "code",
   "execution_count": null,
   "metadata": {},
   "outputs": [],
   "source": [
    "from pylab import legend\n",
    "    \n",
    "plot(range(antall_dager), k, label='Kaniner')\n",
    "plot(range(antall_dager), g, label='Gauper')\n",
    "\n",
    "legend()\n",
    "xlabel('Dager')\n",
    "ylabel('Antall dyr')\n",
    "show()"
   ]
  },
  {
   "cell_type": "markdown",
   "metadata": {},
   "source": [
    "Her har vi altså sett hvordan vi kan modellere gaupe og kanin populasjoner matematisk, men stemmer disse tallene overens med virkeligheten? Vel, det kan vi faktisk sjekke. Det har seg nemlig slik at det kanadiske selskapet Hudson's Bay Company samlet inn data på hvor mye hareskinn og gaupeskinn de fikk inn hvert år. \n",
    "\n",
    "<img src=\"bilder/gauperogharer.png\">\n",
    "\n",
    "Vi ser altså at mengden harer og gauper følger et periodisk mønster som likner veldig på det vi har i simuleringen vår! "
   ]
  },
  {
   "cell_type": "markdown",
   "metadata": {},
   "source": [
    "## Oppgave 6 a) (bonusoppgave): Interaktiv rovdyr-byttedyr simulering\n",
    "\n",
    "Fyll inn skjelettkoden under for å lage en interaktiv simulering av et simulere et rovdyr-byttedyr system (du trenger kun fylle inn i linje 34 og 35)."
   ]
  },
  {
   "cell_type": "code",
   "execution_count": null,
   "metadata": {},
   "outputs": [],
   "source": [
    "def plott_rovdyr_byttedyr(\n",
    "    kaniner_fødselsrate,\n",
    "    gauper_fødselsrate,\n",
    "    gaupeappetitt,\n",
    "    gaupedødsrate,\n",
    "    start_kaniner,\n",
    "    start_gauper,\n",
    "    antall_år\n",
    "):\n",
    "    # Tidsvariabler\n",
    "    dager_i_år = 365\n",
    "    alle_år = arange(antall_år*dager_i_år)/dager_i_år\n",
    "\n",
    "    # Kanin og gaupevariabler\n",
    "    antall_kaniner = zeros(antall_år*dager_i_år)\n",
    "    antall_kaniner[0] = start_kaniner\n",
    "\n",
    "    antall_gauper = zeros(antall_år*dager_i_år)\n",
    "    antall_gauper[0] = start_gauper\n",
    "\n",
    "\n",
    "    for år in range(antall_år*dager_i_år - 1):  # Hvert etterfølgende år\n",
    "        # Simuleringsparametre\n",
    "        f_k = kaniner_fødselsrate/365\n",
    "        f_g = gauper_fødselsrate/365\n",
    "        a_g = gaupeappetitt/365\n",
    "        d_g = gaupedødsrate/365\n",
    "\n",
    "        # Populasjonsvariabler\n",
    "        k_t = antall_kaniner[år]  # Antall kaniner dette året\n",
    "        g_t = antall_gauper[år]   # Antall gauper dette året\n",
    "\n",
    "        # Finn antall kaniner og gauper neste år\n",
    "        antall_kaniner[år+1] = \"... din kode her\"\n",
    "        antall_gauper[år+1] = \"... din kode her\"\n",
    "        \n",
    "    \n",
    "    # Vis frem antall kaniner som funksjon av år\n",
    "    plot(alle_år, antall_kaniner, '-', label=\"Kaniner\")\n",
    "    plot(alle_år, antall_gauper, '-', label=\"Gauper\")\n",
    "\n",
    "    # Pynt på plottet\n",
    "    xlabel(\"År\")\n",
    "    ylabel(\"Antall kaniner\")\n",
    "    legend()\n",
    "    show()"
   ]
  },
  {
   "cell_type": "markdown",
   "metadata": {},
   "source": [
    "## Oppgave 6 b) (bonusoppgave): Interaktiv rovdyr-byttedyr simulering\n",
    "\n",
    "Bruk den interaktive simuleringen din for å se hva som skjer når du endrer parameterne i den."
   ]
  },
  {
   "cell_type": "code",
   "execution_count": null,
   "metadata": {},
   "outputs": [],
   "source": [
    "interact(\n",
    "    plott_rovdyr_byttedyr,\n",
    "    kaniner_fødselsrate = 5,\n",
    "    gauper_fødselsrate = 0.15,\n",
    "    gaupeappetitt = 1.5,\n",
    "    gaupedødsrate = 0.5,\n",
    "    start_kaniner = 10,\n",
    "    start_gauper = 2,\n",
    "    antall_år=40,    \n",
    ")"
   ]
  },
  {
   "cell_type": "code",
   "execution_count": null,
   "metadata": {},
   "outputs": [],
   "source": []
  }
 ],
 "metadata": {
  "kernelspec": {
   "display_name": "Python 3",
   "language": "python",
   "name": "python3"
  },
  "language_info": {
   "codemirror_mode": {
    "name": "ipython",
    "version": 3
   },
   "file_extension": ".py",
   "mimetype": "text/x-python",
   "name": "python",
   "nbconvert_exporter": "python",
   "pygments_lexer": "ipython3",
   "version": "3.7.6"
  }
 },
 "nbformat": 4,
 "nbformat_minor": 4
}
